{
 "metadata": {
  "language_info": {
   "codemirror_mode": {
    "name": "ipython",
    "version": 3
   },
   "file_extension": ".py",
   "mimetype": "text/x-python",
   "name": "python",
   "nbconvert_exporter": "python",
   "pygments_lexer": "ipython3",
   "version": "3.8.8"
  },
  "orig_nbformat": 2,
  "kernelspec": {
   "name": "python388jvsc74a57bd09acec9833a1505a99470fd142fb19ea8c6b23a88395609e2f2f11118f0251a93",
   "display_name": "Python 3.8.8 64-bit ('python': conda)"
  },
  "metadata": {
   "interpreter": {
    "hash": "9acec9833a1505a99470fd142fb19ea8c6b23a88395609e2f2f11118f0251a93"
   }
  }
 },
 "nbformat": 4,
 "nbformat_minor": 2,
 "cells": [
  {
   "source": [
    "# Throughput"
   ],
   "cell_type": "markdown",
   "metadata": {}
  },
  {
   "cell_type": "code",
   "execution_count": 1,
   "metadata": {},
   "outputs": [],
   "source": [
    "from utils import *\n",
    "import matplotlib.pyplot as plt"
   ]
  },
  {
   "cell_type": "code",
   "execution_count": 2,
   "metadata": {},
   "outputs": [
    {
     "output_type": "stream",
     "name": "stdout",
     "text": [
      "Average WSR: 4905.8154477317385\nSTD WSR: 482.164221911337\n"
     ]
    }
   ],
   "source": [
    "data_paths = ['../results/WSR-24-30/WRITESYNCREAD.dat']\n",
    "data = None\n",
    "stat = None\n",
    "for path in data_paths:\n",
    "    data, stat = get_data(path)\n",
    "\n",
    "avg, std = avg_rate(data, 3)\n",
    "print('Average WSR:', avg)\n",
    "print('STD WSR:', std)"
   ]
  },
  {
   "cell_type": "code",
   "execution_count": 3,
   "metadata": {},
   "outputs": [
    {
     "output_type": "stream",
     "name": "stdout",
     "text": [
      "/Users/yaosenlin/CSE-223B/project/analysis\n../results/WSWSR-24-30/WRITESYNCREAD.dat\nAverage WSWSR: 4087.3356314404627\nSTD WSWSR: 143.3008280253732\n"
     ]
    }
   ],
   "source": [
    "print(os.getcwd())\n",
    "data_paths = ['../results/WSWSR-24-30/WRITESYNCREAD.dat']\n",
    "data = None\n",
    "stat = None\n",
    "for path in data_paths:\n",
    "    print(path)\n",
    "    data, stat = get_data(path)\n",
    "\n",
    "avg, std = avg_rate(data, 3)\n",
    "print('Average WSWSR:', avg)\n",
    "print('STD WSWSR:', std)"
   ]
  },
  {
   "cell_type": "code",
   "execution_count": 4,
   "metadata": {},
   "outputs": [
    {
     "output_type": "stream",
     "name": "stdout",
     "text": [
      "/Users/yaosenlin/CSE-223B/project/analysis\n../results/WSWSWSR-24-30/WRITESYNCREAD.dat\nAverage WSWSWSR: 3737.3845511428794\nSTD WSWSR: 188.67836038990103\n"
     ]
    }
   ],
   "source": [
    "print(os.getcwd())\n",
    "data_paths = ['../results/WSWSWSR-24-30/WRITESYNCREAD.dat']\n",
    "data = None\n",
    "stat = None\n",
    "for path in data_paths:\n",
    "    print(path)\n",
    "    data, stat = get_data(path)\n",
    "\n",
    "avg, std = avg_rate(data, 3)\n",
    "print('Average WSWSWSR:', avg)\n",
    "print('STD WSWSR:', std)"
   ]
  },
  {
   "cell_type": "code",
   "execution_count": 5,
   "metadata": {},
   "outputs": [
    {
     "output_type": "stream",
     "name": "stdout",
     "text": [
      "Average WSR: 4926.17715377579\nSTD WSR: 760.7554533646917\n"
     ]
    }
   ],
   "source": [
    "data_paths = ['../results/WSR-Contention-24-30/WRITESYNCREAD.dat']\n",
    "data = None\n",
    "stat = None\n",
    "for path in data_paths:\n",
    "    data, stat = get_data(path)\n",
    "\n",
    "avg, std = avg_rate(data, 3)\n",
    "print('Average WSR:', avg)\n",
    "print('STD WSR:', std)"
   ]
  },
  {
   "source": [
    "# Latency"
   ],
   "cell_type": "markdown",
   "metadata": {}
  },
  {
   "cell_type": "code",
   "execution_count": 6,
   "metadata": {
    "tags": []
   },
   "outputs": [
    {
     "output_type": "stream",
     "name": "stdout",
     "text": [
      "dict_keys([17, 5, 23, 2, 10, 18, 7, 15, 21, 12, 0, 8, 9, 13, 1, 20, 6, 14, 19, 3, 11, 22, 16, 4])\n\nAverage WSR: 0.009814324758571328\nSTD WSR: 0.0029070324136022956\n"
     ]
    }
   ],
   "source": [
    "prefix = '../results/WSR-24-30/'\n",
    "files = get_latency_files('WRITESYNCREAD', prefix)\n",
    "data = {}\n",
    "for f in files:\n",
    "    idx = int(f.split('-')[0])\n",
    "    data[idx], _ = get_data(os.path.join(prefix, f))\n",
    "\n",
    "print(data.keys())\n",
    "print()\n",
    "avg, std = avg_latency(data)\n",
    "print('Average WSR:', avg)\n",
    "print('STD WSR:', std)"
   ]
  },
  {
   "cell_type": "code",
   "execution_count": 7,
   "metadata": {},
   "outputs": [
    {
     "output_type": "stream",
     "name": "stdout",
     "text": [
      "dict_keys([17, 5, 23, 2, 10, 18, 7, 15, 21, 12, 0, 8, 9, 13, 1, 20, 6, 14, 19, 3, 11, 22, 16, 4])\n",
      "\n",
      "Average WSWSR: 0.017637420153320593\n",
      "STD WSWSR: 0.0035430096882721443\n"
     ]
    }
   ],
   "source": [
    "prefix = '../results/WSWSR-24-30/'\n",
    "files = get_latency_files('WRITESYNCREAD', prefix)\n",
    "data = {}\n",
    "for f in files:\n",
    "    idx = int(f.split('-')[0])\n",
    "    data[idx], _ = get_data(os.path.join(prefix, f))\n",
    "\n",
    "print(data.keys())\n",
    "print()\n",
    "avg, std = avg_latency(data)\n",
    "print('Average WSWSR:', avg)\n",
    "print('STD WSWSR:', std)"
   ]
  },
  {
   "cell_type": "code",
   "execution_count": 8,
   "metadata": {},
   "outputs": [
    {
     "output_type": "stream",
     "name": "stdout",
     "text": [
      "dict_keys([17, 5, 23, 2, 10, 18, 7, 15, 21, 12, 0, 8, 9, 13, 1, 20, 6, 14, 19, 3, 11, 22, 16, 4])\n\nAverage WSWSWSR: 0.025673932902555506\nSTD WSWSWSR: 0.004636166318799938\n"
     ]
    }
   ],
   "source": [
    "prefix = '../results/WSWSWSR-24-30/'\n",
    "files = get_latency_files('WRITESYNCREAD', prefix)\n",
    "data = {}\n",
    "for f in files:\n",
    "    idx = int(f.split('-')[0])\n",
    "    data[idx], _ = get_data(os.path.join(prefix, f))\n",
    "\n",
    "print(data.keys())\n",
    "print()\n",
    "avg, std = avg_latency(data)\n",
    "print('Average WSWSWSR:', avg)\n",
    "print('STD WSWSWSR:', std)"
   ]
  },
  {
   "cell_type": "code",
   "execution_count": 9,
   "metadata": {},
   "outputs": [
    {
     "output_type": "stream",
     "name": "stdout",
     "text": [
      "dict_keys([17, 5, 23, 2, 10, 18, 7, 15, 21, 12, 0, 8, 9, 13, 1, 20, 6, 14, 19, 3, 11, 22, 16, 4])\nAverage WSR: 0.00973397422911175\nSTD WSR: 0.00264370066308699\n"
     ]
    }
   ],
   "source": [
    "prefix = '../results/WSR-Contention-24-30/'\n",
    "files = get_latency_files('WRITESYNCREAD', prefix)\n",
    "data = {}\n",
    "for f in files:\n",
    "    idx = int(f.split('-')[0])\n",
    "    data[idx], _ = get_data(os.path.join(prefix, f))\n",
    "\n",
    "print(data.keys())\n",
    "\n",
    "avg, std = avg_latency(data)\n",
    "print('Average WSR:', avg)\n",
    "print('STD WSR:', std)"
   ]
  }
 ]
}